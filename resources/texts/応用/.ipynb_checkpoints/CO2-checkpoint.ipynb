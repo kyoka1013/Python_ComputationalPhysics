{
 "cells": [
  {
   "cell_type": "markdown",
   "id": "75859271-a0ff-4bd0-9235-457884958079",
   "metadata": {},
   "source": [
    "# 二酸化炭素の運動"
   ]
  },
  {
   "cell_type": "code",
   "execution_count": null,
   "id": "201c764f-3428-4af1-ba73-ee4db2556987",
   "metadata": {},
   "outputs": [],
   "source": [
    "import numpy as np\n",
    "from scipy.integrate import odeint\n",
    "import matplotlib.pyplot as plt"
   ]
  },
  {
   "cell_type": "markdown",
   "id": "3b3874e9-5021-4b99-b015-becb0185ec29",
   "metadata": {},
   "source": [
    "## 定数の定義"
   ]
  },
  {
   "cell_type": "code",
   "execution_count": null,
   "id": "a3b8c655-ee70-4082-9a41-4bff11f61130",
   "metadata": {},
   "outputs": [],
   "source": [
    "k = 1.0    # バネ定数\n",
    "m = 16.0    # O原子の質量\n",
    "M = 12.0   # C原子の質量"
   ]
  },
  {
   "cell_type": "markdown",
   "id": "7888179a-9f09-4b23-a21b-d445f8ad516f",
   "metadata": {},
   "source": [
    "## 運動方程式"
   ]
  },
  {
   "cell_type": "markdown",
   "id": "9a461212-d1dc-4bd5-a97b-a39447773d20",
   "metadata": {},
   "source": [
    "次の二酸化炭素モデルを考えていた。\n",
    "\n",
    "<img src=\"image\\figure1.png\" style=\"max-width:30%; height:auto;\">\n",
    "\n",
    "運動方程式は\n",
    "\n",
    "<img src=\"image\\equationofmotion.png\" style=\"max-width:30%; height:auto;\">\n",
    "\n",
    "上の運動方程式をコードでかくと、"
   ]
  },
  {
   "cell_type": "code",
   "execution_count": 1,
   "id": "99e02fac-625c-4bff-b06c-75afbb406ef1",
   "metadata": {},
   "outputs": [],
   "source": [
    "# ODE\n",
    "def equations(y, t, k, m, M):\n",
    "    x1, v1, x2, v2, x3, v3 = y\n",
    "    dydt = [\n",
    "        v1,\n",
    "        k * (x2 - x1) / m,\n",
    "        v2,\n",
    "        ((-k) * (x2 - x1) + k * (x3 - x2)) / M,\n",
    "        v3,\n",
    "        (-k) * (x3 - x2) / m\n",
    "    ]\n",
    "    return dydt"
   ]
  },
  {
   "cell_type": "markdown",
   "id": "e0bc7276-4a58-42f5-a434-ababd3487977",
   "metadata": {},
   "source": [
    "<img src=\"image\\sol1.png\" style=\"max-width:50%; height:auto;\" >\n",
    "\n",
    "運動方程式から解いて出てきた条件は**a_1=a_3**\n",
    "\n",
    "ここで、ω=ω_1の場合**初期条件**を次のように与える。"
   ]
  },
  {
   "cell_type": "code",
   "execution_count": 2,
   "id": "81f545b9-fc0a-42cb-9453-95308838e121",
   "metadata": {},
   "outputs": [],
   "source": [
    "# 初期条件\n",
    "x1_0 = 0.1  # 左側O原子の初期位置\n",
    "v1_0 = 0.0  # 左側O原子の初期速度\n",
    "x2_0 = 0.0  # 中央C原子の初期位置\n",
    "v2_0 = 0.0  # 中央C原子の初期速度\n",
    "x3_0 = -0.1 # 右側O原子の初期位置\n",
    "v3_0 = 0.0  # 右側O原子の初期速度\n",
    "\n",
    "y0 = [x1_0, v1_0, x2_0, v2_0, x3_0, v3_0]"
   ]
  },
  {
   "cell_type": "code",
   "execution_count": null,
   "id": "e535a337-1fa7-4c8e-bcf1-3877f07022a9",
   "metadata": {},
   "outputs": [],
   "source": [
    "# 時間範囲\n",
    "t = np.linspace(0, 50, 1000)"
   ]
  },
  {
   "cell_type": "code",
   "execution_count": null,
   "id": "2bd2750c-e1cb-4a4e-88cb-0e5d4357718f",
   "metadata": {},
   "outputs": [],
   "source": [
    "# ODEの解を求める\n",
    "sol = odeint(equations, y0, t, args=(k, m, M))"
   ]
  },
  {
   "cell_type": "markdown",
   "id": "c1ae74c2-97fb-4e8e-ac0c-3e418c96d140",
   "metadata": {},
   "source": [
    "## ω=ω_1の場合の結果"
   ]
  },
  {
   "cell_type": "code",
   "execution_count": null,
   "id": "ec3627d0-4772-4571-a026-da1513ef5fa8",
   "metadata": {},
   "outputs": [],
   "source": [
    "# 結果のプロット\n",
    "plt.plot(t, sol[:, 0], label='x1 (O1)')\n",
    "plt.plot(t, sol[:, 2], label='x2 (C)')\n",
    "plt.plot(t, sol[:, 4], label='x3 (O2)')\n",
    "plt.xlabel('Time')\n",
    "plt.ylabel('Position')\n",
    "plt.legend()\n",
    "plt.show()"
   ]
  },
  {
   "cell_type": "markdown",
   "id": "615feb58-9b3a-49a9-964b-6be53f8e7a43",
   "metadata": {},
   "source": [
    "続けてω=ω_2の場合を見ていく。\n",
    "\n",
    "<img src=\"image\\sol2.png\" style=\"max-width:50%; height:auto;\" >\n",
    "\n",
    "運動方程式から解いて出てきた条件は**a_1=-a_3**\n",
    "\n",
    "**初期条件**は次のように与えられる。"
   ]
  },
  {
   "cell_type": "code",
   "execution_count": null,
   "id": "09b4602d-9009-4f96-bbd3-12f1d5488f03",
   "metadata": {},
   "outputs": [],
   "source": [
    "# 初期条件\n",
    "x1_0 = 0.1  # 左側O原子の初期位置\n",
    "v1_0 = 0.0  # 左側O原子の初期速度\n",
    "x2_0 = 0.0  # 中央C原子の初期位置\n",
    "v2_0 = 0.0  # 中央C原子の初期速度\n",
    "x3_0 = 0.1 # 右側O原子の初期位置\n",
    "v3_0 = 0.0  # 右側O原子の初期速度\n",
    "\n",
    "y0 = [x1_0, v1_0, x2_0, v2_0, x3_0, v3_0]"
   ]
  },
  {
   "cell_type": "code",
   "execution_count": null,
   "id": "a61047b4-62e0-4193-9716-45aca7eac950",
   "metadata": {},
   "outputs": [],
   "source": [
    "# ODEの解を求める\n",
    "sol = odeint(equations, y0, t, args=(k, m, M))"
   ]
  },
  {
   "cell_type": "markdown",
   "id": "f7a0a107-18e1-4e68-9d52-496e61f3abc4",
   "metadata": {},
   "source": [
    "## ω=ω_2の場合の結果"
   ]
  },
  {
   "cell_type": "code",
   "execution_count": null,
   "id": "bce776d7-4fb0-403f-aa5e-b7e7980ce8a4",
   "metadata": {},
   "outputs": [],
   "source": [
    "# 結果のプロット\n",
    "plt.plot(t, sol[:, 0], label='x1 (O1)')\n",
    "plt.plot(t, sol[:, 2], label='x2 (C)')\n",
    "plt.plot(t, sol[:, 4], label='x3 (O2)')\n",
    "plt.xlabel('Time')\n",
    "plt.ylabel('Position')\n",
    "plt.legend()\n",
    "plt.show()"
   ]
  },
  {
   "cell_type": "markdown",
   "id": "0143ec08-82df-4975-afd6-b0079889160a",
   "metadata": {},
   "source": [
    "x_1の結果が見えない。ここで、先ほどの微分方程式の結果を表示させてみよう。"
   ]
  },
  {
   "cell_type": "code",
   "execution_count": null,
   "id": "8bf83512-960d-4463-86a6-38b6bfe1c498",
   "metadata": {},
   "outputs": [],
   "source": [
    "print(sol)"
   ]
  },
  {
   "cell_type": "markdown",
   "id": "f3c6b43b-8bac-4394-bc71-738a3aef9601",
   "metadata": {},
   "source": [
    "上記のリストの0番目がx_1、4番目がx_3であることから、x_1とx_3が一致していることが分かる。"
   ]
  }
 ],
 "metadata": {
  "kernelspec": {
   "display_name": "Python 3 (ipykernel)",
   "language": "python",
   "name": "python3"
  },
  "language_info": {
   "codemirror_mode": {
    "name": "ipython",
    "version": 3
   },
   "file_extension": ".py",
   "mimetype": "text/x-python",
   "name": "python",
   "nbconvert_exporter": "python",
   "pygments_lexer": "ipython3",
   "version": "3.11.7"
  }
 },
 "nbformat": 4,
 "nbformat_minor": 5
}
